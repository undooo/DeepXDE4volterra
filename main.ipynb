{
 "cells": [
  {
   "cell_type": "markdown",
   "metadata": {},
   "source": [
    "# Volterra（沃尔泰拉）积分方程"
   ]
  },
  {
   "cell_type": "markdown",
   "metadata": {},
   "source": [
    "## 小组及选题介绍\n",
    "\n",
    "​**小组信息**​  \n",
    "- ​**小组序号**​：86  \n",
    "- ​**小组名称**​：小时不识月，呼作地卫一  \n",
    "- ​**成员组成**​：王梓宇（组长）、刘翰坤  \n",
    "\n",
    "​**选题信息**​  \n",
    "- ​**选题序号**​：55  \n",
    "- ​**选题名称**​：DeepXDE: A Deep Learning Library for Solving Differential Equations  \n",
    "\n",
    "​**选题说明**​  \n",
    "DeepXDE 是一个基于深度学习的微分方程求解库，主要特点包括：  \n",
    "• 支持PDE/ODE/积分方程等多种方程类型  \n",
    "• 实现物理信息神经网络（PINNs）  \n",
    "• 灵活的边界条件处理机制  \n",
    "• 多GPU并行计算支持  \n",
    "\n",
    "典型应用场景：复杂物理系统建模、工程优化、科学计算中的逆问题研究，以及与传统数值方法的协同应用。"
   ]
  },
  {
   "cell_type": "markdown",
   "metadata": {},
   "source": [
    "## 0. 环境准备"
   ]
  },
  {
   "cell_type": "code",
   "execution_count": 6,
   "metadata": {
    "execution": {
     "iopub.execute_input": "2025-06-09T08:02:46.847784Z",
     "iopub.status.busy": "2025-06-09T08:02:46.847377Z",
     "iopub.status.idle": "2025-06-09T08:03:46.247795Z",
     "shell.execute_reply": "2025-06-09T08:03:46.246622Z",
     "shell.execute_reply.started": "2025-06-09T08:02:46.847757Z"
    },
    "scrolled": true,
    "tags": []
   },
   "outputs": [
    {
     "name": "stdout",
     "output_type": "stream",
     "text": [
      "Found existing installation: paddlepaddle-gpu 0.0.0.post118\r\n",
      "Uninstalling paddlepaddle-gpu-0.0.0.post118:\r\n",
      "  Successfully uninstalled paddlepaddle-gpu-0.0.0.post118\r\n",
      "Looking in indexes: https://mirrors.aliyun.com/pypi/simple/, https://mirrors.aliyun.com/pypi/simple/\r\n",
      "Looking in links: https://www.paddlepaddle.org.cn/whl/linux/gpu/develop.html\r\n",
      "Collecting paddlepaddle-gpu==0.0.0.post118\r\n",
      "  Using cached https://paddle-wheel.bj.bcebos.com/develop/linux/linux-gpu-cuda11.8-cudnn8.6-mkl-gcc8.2-avx/paddlepaddle_gpu-0.0.0.post118-cp310-cp310-linux_x86_64.whl (726.9 MB)\r\n",
      "Requirement already satisfied: httpx in /opt/conda/envs/python35-paddle120-env/lib/python3.10/site-packages (from paddlepaddle-gpu==0.0.0.post118) (0.28.1)\r\n",
      "Requirement already satisfied: numpy>=1.13 in /opt/conda/envs/python35-paddle120-env/lib/python3.10/site-packages (from paddlepaddle-gpu==0.0.0.post118) (1.26.4)\r\n",
      "Requirement already satisfied: protobuf>=3.20.2 in /opt/conda/envs/python35-paddle120-env/lib/python3.10/site-packages (from paddlepaddle-gpu==0.0.0.post118) (3.20.3)\r\n",
      "Requirement already satisfied: Pillow in /opt/conda/envs/python35-paddle120-env/lib/python3.10/site-packages (from paddlepaddle-gpu==0.0.0.post118) (10.4.0)\r\n",
      "Requirement already satisfied: decorator in /opt/conda/envs/python35-paddle120-env/lib/python3.10/site-packages (from paddlepaddle-gpu==0.0.0.post118) (5.1.1)\r\n",
      "Requirement already satisfied: astor in /opt/conda/envs/python35-paddle120-env/lib/python3.10/site-packages (from paddlepaddle-gpu==0.0.0.post118) (0.8.1)\r\n",
      "Requirement already satisfied: opt-einsum==3.3.0 in /opt/conda/envs/python35-paddle120-env/lib/python3.10/site-packages (from paddlepaddle-gpu==0.0.0.post118) (3.3.0)\r\n",
      "Requirement already satisfied: networkx in /opt/conda/envs/python35-paddle120-env/lib/python3.10/site-packages (from paddlepaddle-gpu==0.0.0.post118) (3.4.2)\r\n",
      "Requirement already satisfied: typing-extensions in /opt/conda/envs/python35-paddle120-env/lib/python3.10/site-packages (from paddlepaddle-gpu==0.0.0.post118) (4.12.2)\r\n",
      "Requirement already satisfied: anyio in /opt/conda/envs/python35-paddle120-env/lib/python3.10/site-packages (from httpx->paddlepaddle-gpu==0.0.0.post118) (4.7.0)\r\n",
      "Requirement already satisfied: certifi in /opt/conda/envs/python35-paddle120-env/lib/python3.10/site-packages (from httpx->paddlepaddle-gpu==0.0.0.post118) (2024.12.14)\r\n",
      "Requirement already satisfied: httpcore==1.* in /opt/conda/envs/python35-paddle120-env/lib/python3.10/site-packages (from httpx->paddlepaddle-gpu==0.0.0.post118) (1.0.7)\r\n",
      "Requirement already satisfied: idna in /opt/conda/envs/python35-paddle120-env/lib/python3.10/site-packages (from httpx->paddlepaddle-gpu==0.0.0.post118) (3.10)\r\n",
      "Requirement already satisfied: h11<0.15,>=0.13 in /opt/conda/envs/python35-paddle120-env/lib/python3.10/site-packages (from httpcore==1.*->httpx->paddlepaddle-gpu==0.0.0.post118) (0.14.0)\r\n",
      "Requirement already satisfied: exceptiongroup>=1.0.2 in /opt/conda/envs/python35-paddle120-env/lib/python3.10/site-packages (from anyio->httpx->paddlepaddle-gpu==0.0.0.post118) (1.2.2)\r\n",
      "Requirement already satisfied: sniffio>=1.1 in /opt/conda/envs/python35-paddle120-env/lib/python3.10/site-packages (from anyio->httpx->paddlepaddle-gpu==0.0.0.post118) (1.3.1)\r\n",
      "Installing collected packages: paddlepaddle-gpu\r\n",
      "Successfully installed paddlepaddle-gpu-0.0.0.post118\r\n",
      "/home/aistudio/work\r\n",
      "fatal: destination path 'PaddleScience' already exists and is not an empty directory.\r\n",
      "/home/aistudio/work/PaddleScience\r\n",
      "Already on 'develop'\r\n",
      "Your branch is up to date with 'origin/develop'.\r\n",
      "Already up to date.\r\n",
      "\u001b[33mcommit e0f02450a05e9391f520f59d127c856294e547c6\u001b[m\u001b[33m (\u001b[m\u001b[1;36mHEAD -> \u001b[m\u001b[1;32mdevelop\u001b[m\u001b[33m, \u001b[m\u001b[1;31morigin/develop\u001b[m\u001b[33m, \u001b[m\u001b[1;31morigin/HEAD\u001b[m\u001b[33m)\u001b[m\r\n",
      "Author: HydrogenSulfate <490868991@qq.com>\r\n",
      "Date:   Mon Jun 9 11:50:41 2025 +0800\r\n",
      "\r\n",
      "    Update README.md\r\n",
      "Looking in indexes: https://pypi.tuna.tsinghua.edu.cn/simple, https://mirrors.aliyun.com/pypi/simple/\r\n",
      "Obtaining file:///home/aistudio/work/PaddleScience\r\n",
      "  Installing build dependencies ... \u001b[?25ldone\r\n",
      "\u001b[?25h  Checking if build backend supports build_editable ... \u001b[?25ldone\r\n",
      "\u001b[?25h  Getting requirements to build editable ... \u001b[?25ldone\r\n",
      "\u001b[?25h  Preparing editable metadata (pyproject.toml) ... \u001b[?25ldone\r\n",
      "\u001b[?25hRequirement already satisfied: colorlog in /opt/conda/envs/python35-paddle120-env/lib/python3.10/site-packages (from paddlesci==1.4.0.post1.dev32+ge0f02450) (6.9.0)\r\n",
      "Collecting einops (from paddlesci==1.4.0.post1.dev32+ge0f02450)\r\n",
      "  Using cached https://mirrors.aliyun.com/pypi/packages/87/62/9773de14fe6c45c23649e98b83231fffd7b9892b6cf863251dc2afa73643/einops-0.8.1-py3-none-any.whl (64 kB)\r\n",
      "Collecting h5py (from paddlesci==1.4.0.post1.dev32+ge0f02450)\r\n",
      "  Using cached https://mirrors.aliyun.com/pypi/packages/b1/45/e1a754dc7cd465ba35e438e28557119221ac89b20aaebef48282654e3dc7/h5py-3.14.0-cp310-cp310-manylinux_2_17_x86_64.manylinux2014_x86_64.whl (4.6 MB)\r\n",
      "Collecting hydra-core (from paddlesci==1.4.0.post1.dev32+ge0f02450)\r\n",
      "  Using cached https://mirrors.aliyun.com/pypi/packages/c6/50/e0edd38dcd63fb26a8547f13d28f7a008bc4a3fd4eb4ff030673f22ad41a/hydra_core-1.3.2-py3-none-any.whl (154 kB)\r\n",
      "Collecting imageio (from paddlesci==1.4.0.post1.dev32+ge0f02450)\r\n",
      "  Using cached https://mirrors.aliyun.com/pypi/packages/cb/bd/b394387b598ed84d8d0fa90611a90bee0adc2021820ad5729f7ced74a8e2/imageio-2.37.0-py3-none-any.whl (315 kB)\r\n",
      "Requirement already satisfied: matplotlib in /opt/conda/envs/python35-paddle120-env/lib/python3.10/site-packages (from paddlesci==1.4.0.post1.dev32+ge0f02450) (3.10.0)\r\n",
      "Collecting meshio==5.3.4 (from paddlesci==1.4.0.post1.dev32+ge0f02450)\r\n",
      "  Using cached https://mirrors.aliyun.com/pypi/packages/42/0d/e6fb61a615ce1ab5548894dde1efdb22232213a84da671b6314255ba0cfe/meshio-5.3.4-py3-none-any.whl (167 kB)\r\n",
      "Requirement already satisfied: numpy<2.0.0,>=1.20.0 in /opt/conda/envs/python35-paddle120-env/lib/python3.10/site-packages (from paddlesci==1.4.0.post1.dev32+ge0f02450) (1.26.4)\r\n",
      "Requirement already satisfied: pydantic>=2.5.0 in /opt/conda/envs/python35-paddle120-env/lib/python3.10/site-packages (from paddlesci==1.4.0.post1.dev32+ge0f02450) (2.7.0)\r\n",
      "Collecting pyevtk (from paddlesci==1.4.0.post1.dev32+ge0f02450)\r\n",
      "  Using cached https://mirrors.aliyun.com/pypi/packages/06/da/d57b07c565cc5f8705da436cfcc44754343416c1187d83f04d5443d5cc1a/pyevtk-1.6.0-py3-none-any.whl (20 kB)\r\n",
      "Requirement already satisfied: pyyaml in /opt/conda/envs/python35-paddle120-env/lib/python3.10/site-packages (from paddlesci==1.4.0.post1.dev32+ge0f02450) (6.0.2)\r\n",
      "Requirement already satisfied: requests in /opt/conda/envs/python35-paddle120-env/lib/python3.10/site-packages (from paddlesci==1.4.0.post1.dev32+ge0f02450) (2.32.3)\r\n",
      "Collecting scikit-learn<1.5.0 (from paddlesci==1.4.0.post1.dev32+ge0f02450)\r\n",
      "  Using cached https://mirrors.aliyun.com/pypi/packages/8f/38/420ee614359d8f453ffe2bb5c2e963bf50459d9bbd3f5a92aa9059658955/scikit_learn-1.4.2-cp310-cp310-manylinux_2_17_x86_64.manylinux2014_x86_64.whl (12.1 MB)\r\n",
      "Collecting scikit-optimize (from paddlesci==1.4.0.post1.dev32+ge0f02450)\r\n",
      "  Downloading https://mirrors.aliyun.com/pypi/packages/65/cd/15c9ebea645cc9860aa71fe0474f4be981f10ed8e19e1fb0ef1027d4966e/scikit_optimize-0.10.2-py2.py3-none-any.whl (107 kB)\r\n",
      "Requirement already satisfied: scipy in /opt/conda/envs/python35-paddle120-env/lib/python3.10/site-packages (from paddlesci==1.4.0.post1.dev32+ge0f02450) (1.14.1)\r\n",
      "Collecting seaborn (from paddlesci==1.4.0.post1.dev32+ge0f02450)\r\n",
      "  Downloading https://mirrors.aliyun.com/pypi/packages/83/11/00d3c3dfc25ad54e731d91449895a79e4bf2384dc3ac01809010ba88f6d5/seaborn-0.13.2-py3-none-any.whl (294 kB)\r\n",
      "Collecting sympy (from paddlesci==1.4.0.post1.dev32+ge0f02450)\r\n",
      "  Downloading https://mirrors.aliyun.com/pypi/packages/a2/09/77d55d46fd61b4a135c444fc97158ef34a095e5681d0a6c10b75bf356191/sympy-1.14.0-py3-none-any.whl (6.3 MB)\r\n",
      "\u001b[2K     \u001b[90m━━━━━━━━━━━━━━━━━━━━━━━━━━━━━━━━━━━━━━━━\u001b[0m \u001b[32m6.3/6.3 MB\u001b[0m \u001b[31m31.3 MB/s\u001b[0m eta \u001b[36m0:00:00\u001b[0m\r\n",
      "\u001b[?25hRequirement already satisfied: tqdm in /opt/conda/envs/python35-paddle120-env/lib/python3.10/site-packages (from paddlesci==1.4.0.post1.dev32+ge0f02450) (4.67.1)\r\n",
      "Requirement already satisfied: typing-extensions in /opt/conda/envs/python35-paddle120-env/lib/python3.10/site-packages (from paddlesci==1.4.0.post1.dev32+ge0f02450) (4.12.2)\r\n",
      "Collecting wget (from paddlesci==1.4.0.post1.dev32+ge0f02450)\r\n",
      "  Downloading https://mirrors.aliyun.com/pypi/packages/47/6a/62e288da7bcda82b935ff0c6cfe542970f04e29c756b0e147251b2fb251f/wget-3.2.zip (10 kB)\r\n",
      "  Preparing metadata (setup.py) ... \u001b[?25ldone\r\n",
      "\u001b[?25hRequirement already satisfied: rich in /opt/conda/envs/python35-paddle120-env/lib/python3.10/site-packages (from meshio==5.3.4->paddlesci==1.4.0.post1.dev32+ge0f02450) (13.9.4)\r\n",
      "Requirement already satisfied: annotated-types>=0.4.0 in /opt/conda/envs/python35-paddle120-env/lib/python3.10/site-packages (from pydantic>=2.5.0->paddlesci==1.4.0.post1.dev32+ge0f02450) (0.7.0)\r\n",
      "Requirement already satisfied: pydantic-core==2.18.1 in /opt/conda/envs/python35-paddle120-env/lib/python3.10/site-packages (from pydantic>=2.5.0->paddlesci==1.4.0.post1.dev32+ge0f02450) (2.18.1)\r\n",
      "Requirement already satisfied: joblib>=1.2.0 in /opt/conda/envs/python35-paddle120-env/lib/python3.10/site-packages (from scikit-learn<1.5.0->paddlesci==1.4.0.post1.dev32+ge0f02450) (1.4.2)\r\n",
      "Requirement already satisfied: threadpoolctl>=2.0.0 in /opt/conda/envs/python35-paddle120-env/lib/python3.10/site-packages (from scikit-learn<1.5.0->paddlesci==1.4.0.post1.dev32+ge0f02450) (3.5.0)\r\n",
      "Collecting omegaconf<2.4,>=2.2 (from hydra-core->paddlesci==1.4.0.post1.dev32+ge0f02450)\r\n",
      "  Downloading https://mirrors.aliyun.com/pypi/packages/e3/94/1843518e420fa3ed6919835845df698c7e27e183cb997394e4a670973a65/omegaconf-2.3.0-py3-none-any.whl (79 kB)\r\n",
      "Collecting antlr4-python3-runtime==4.9.* (from hydra-core->paddlesci==1.4.0.post1.dev32+ge0f02450)\r\n",
      "  Downloading https://mirrors.aliyun.com/pypi/packages/3e/38/7859ff46355f76f8d19459005ca000b6e7012f2f1ca597746cbcd1fbfe5e/antlr4-python3-runtime-4.9.3.tar.gz (117 kB)\r\n",
      "  Preparing metadata (setup.py) ... \u001b[?25ldone\r\n",
      "\u001b[?25hRequirement already satisfied: packaging in /opt/conda/envs/python35-paddle120-env/lib/python3.10/site-packages (from hydra-core->paddlesci==1.4.0.post1.dev32+ge0f02450) (24.2)\r\n",
      "Requirement already satisfied: pillow>=8.3.2 in /opt/conda/envs/python35-paddle120-env/lib/python3.10/site-packages (from imageio->paddlesci==1.4.0.post1.dev32+ge0f02450) (10.4.0)\r\n",
      "Requirement already satisfied: contourpy>=1.0.1 in /opt/conda/envs/python35-paddle120-env/lib/python3.10/site-packages (from matplotlib->paddlesci==1.4.0.post1.dev32+ge0f02450) (1.3.1)\r\n",
      "Requirement already satisfied: cycler>=0.10 in /opt/conda/envs/python35-paddle120-env/lib/python3.10/site-packages (from matplotlib->paddlesci==1.4.0.post1.dev32+ge0f02450) (0.12.1)\r\n",
      "Requirement already satisfied: fonttools>=4.22.0 in /opt/conda/envs/python35-paddle120-env/lib/python3.10/site-packages (from matplotlib->paddlesci==1.4.0.post1.dev32+ge0f02450) (4.55.3)\r\n",
      "Requirement already satisfied: kiwisolver>=1.3.1 in /opt/conda/envs/python35-paddle120-env/lib/python3.10/site-packages (from matplotlib->paddlesci==1.4.0.post1.dev32+ge0f02450) (1.4.8)\r\n",
      "Requirement already satisfied: pyparsing>=2.3.1 in /opt/conda/envs/python35-paddle120-env/lib/python3.10/site-packages (from matplotlib->paddlesci==1.4.0.post1.dev32+ge0f02450) (3.2.0)\r\n",
      "Requirement already satisfied: python-dateutil>=2.7 in /opt/conda/envs/python35-paddle120-env/lib/python3.10/site-packages (from matplotlib->paddlesci==1.4.0.post1.dev32+ge0f02450) (2.9.0.post0)\r\n",
      "Requirement already satisfied: charset-normalizer<4,>=2 in /opt/conda/envs/python35-paddle120-env/lib/python3.10/site-packages (from requests->paddlesci==1.4.0.post1.dev32+ge0f02450) (3.4.1)\r\n",
      "Requirement already satisfied: idna<4,>=2.5 in /opt/conda/envs/python35-paddle120-env/lib/python3.10/site-packages (from requests->paddlesci==1.4.0.post1.dev32+ge0f02450) (3.10)\r\n",
      "Requirement already satisfied: urllib3<3,>=1.21.1 in /opt/conda/envs/python35-paddle120-env/lib/python3.10/site-packages (from requests->paddlesci==1.4.0.post1.dev32+ge0f02450) (2.3.0)\r\n",
      "Requirement already satisfied: certifi>=2017.4.17 in /opt/conda/envs/python35-paddle120-env/lib/python3.10/site-packages (from requests->paddlesci==1.4.0.post1.dev32+ge0f02450) (2024.12.14)\r\n",
      "Collecting pyaml>=16.9 (from scikit-optimize->paddlesci==1.4.0.post1.dev32+ge0f02450)\r\n",
      "  Downloading https://mirrors.aliyun.com/pypi/packages/aa/7d/1b5061beff826f902285827261485a058b943332eba8a5532a0164735205/pyaml-25.5.0-py3-none-any.whl (26 kB)\r\n",
      "Requirement already satisfied: pandas>=1.2 in /opt/conda/envs/python35-paddle120-env/lib/python3.10/site-packages (from seaborn->paddlesci==1.4.0.post1.dev32+ge0f02450) (2.2.3)\r\n",
      "Collecting mpmath<1.4,>=1.1.0 (from sympy->paddlesci==1.4.0.post1.dev32+ge0f02450)\r\n",
      "  Downloading https://mirrors.aliyun.com/pypi/packages/43/e3/7d92a15f894aa0c9c4b49b8ee9ac9850d6e63b03c9c32c0367a13ae62209/mpmath-1.3.0-py3-none-any.whl (536 kB)\r\n",
      "\u001b[2K     \u001b[90m━━━━━━━━━━━━━━━━━━━━━━━━━━━━━━━━━━━━━━\u001b[0m \u001b[32m536.2/536.2 kB\u001b[0m \u001b[31m18.2 MB/s\u001b[0m eta \u001b[36m0:00:00\u001b[0m\r\n",
      "\u001b[?25hRequirement already satisfied: pytz>=2020.1 in /opt/conda/envs/python35-paddle120-env/lib/python3.10/site-packages (from pandas>=1.2->seaborn->paddlesci==1.4.0.post1.dev32+ge0f02450) (2024.2)\r\n",
      "Requirement already satisfied: tzdata>=2022.7 in /opt/conda/envs/python35-paddle120-env/lib/python3.10/site-packages (from pandas>=1.2->seaborn->paddlesci==1.4.0.post1.dev32+ge0f02450) (2024.2)\r\n",
      "Requirement already satisfied: six>=1.5 in /opt/conda/envs/python35-paddle120-env/lib/python3.10/site-packages (from python-dateutil>=2.7->matplotlib->paddlesci==1.4.0.post1.dev32+ge0f02450) (1.17.0)\r\n",
      "Requirement already satisfied: markdown-it-py>=2.2.0 in /opt/conda/envs/python35-paddle120-env/lib/python3.10/site-packages (from rich->meshio==5.3.4->paddlesci==1.4.0.post1.dev32+ge0f02450) (2.2.0)\r\n",
      "Requirement already satisfied: pygments<3.0.0,>=2.13.0 in /opt/conda/envs/python35-paddle120-env/lib/python3.10/site-packages (from rich->meshio==5.3.4->paddlesci==1.4.0.post1.dev32+ge0f02450) (2.18.0)\r\n",
      "Requirement already satisfied: mdurl~=0.1 in /opt/conda/envs/python35-paddle120-env/lib/python3.10/site-packages (from markdown-it-py>=2.2.0->rich->meshio==5.3.4->paddlesci==1.4.0.post1.dev32+ge0f02450) (0.1.2)\r\n",
      "Building wheels for collected packages: paddlesci, antlr4-python3-runtime, wget\r\n",
      "  Building editable for paddlesci (pyproject.toml) ... \u001b[?25ldone\r\n",
      "\u001b[?25h  Created wheel for paddlesci: filename=paddlesci-1.4.0.post1.dev32+ge0f02450-0.editable-py3-none-any.whl size=19255 sha256=0479fb315d6f33cf3a973832e2f933c888c55e6563ea7f624f8ef8a25e7b1ef3\r\n",
      "  Stored in directory: /tmp/pip-ephem-wheel-cache-hcm5__0_/wheels/04/82/42/8061b49ea3fad68dd62372acf7f15b2b1762fb5bafb62b4f23\r\n",
      "  Building wheel for antlr4-python3-runtime (setup.py) ... \u001b[?25ldone\r\n",
      "\u001b[?25h  Created wheel for antlr4-python3-runtime: filename=antlr4_python3_runtime-4.9.3-py3-none-any.whl size=144555 sha256=34bef3c4d5d27d984a42e688664b07f8bee16e6eb382ee6031252728d9094d3a\r\n",
      "  Stored in directory: /home/aistudio/.cache/pip/wheels/79/82/b1/b79d6e90f34257cd436860ed4f4a09f9e1ea8cd32da7046ea4\r\n",
      "  Building wheel for wget (setup.py) ... \u001b[?25ldone\r\n",
      "\u001b[?25h  Created wheel for wget: filename=wget-3.2-py3-none-any.whl size=9656 sha256=03e9bda98c9d982200bf547381fefac061ce85bea60ed4ff2107d19a6a052088\r\n",
      "  Stored in directory: /home/aistudio/.cache/pip/wheels/01/20/16/441e0a41251b6ff4e489ba01a3ce4a62f6476b5affa0bbb4a4\r\n",
      "Successfully built paddlesci antlr4-python3-runtime wget\r\n",
      "Installing collected packages: wget, mpmath, antlr4-python3-runtime, sympy, pyevtk, pyaml, omegaconf, imageio, h5py, einops, scikit-learn, hydra-core, seaborn, scikit-optimize, meshio, paddlesci\r\n",
      "  Attempting uninstall: scikit-learn\r\n",
      "    Found existing installation: scikit-learn 1.6.0\r\n",
      "    Uninstalling scikit-learn-1.6.0:\r\n",
      "      Successfully uninstalled scikit-learn-1.6.0\r\n",
      "Successfully installed antlr4-python3-runtime-4.9.3 einops-0.8.1 h5py-3.14.0 hydra-core-1.3.2 imageio-2.37.0 meshio-5.3.4 mpmath-1.3.0 omegaconf-2.3.0 paddlesci-1.4.0.post1.dev32+ge0f02450 pyaml-25.5.0 pyevtk-1.6.0 scikit-learn-1.4.2 scikit-optimize-0.10.2 seaborn-0.13.2 sympy-1.14.0 wget-3.2\r\n",
      "Looking in indexes: https://pypi.tuna.tsinghua.edu.cn/simple, https://mirrors.aliyun.com/pypi/simple/\r\n",
      "Requirement already satisfied: protobuf==3.20.3 in /opt/conda/envs/python35-paddle120-env/lib/python3.10/site-packages (3.20.3)\r\n"
     ]
    }
   ],
   "source": [
    "# 安装最新 develop 版 PaddlePaddle\n",
    "!pip uninstall paddlepaddle-gpu -y\n",
    "!python -m pip install paddlepaddle-gpu==0.0.0.post118 -f https://www.paddlepaddle.org.cn/whl/linux/gpu/develop.html -i https://mirrors.aliyun.com/pypi/simple/ \n",
    "\n",
    "# 下载并安装 PaddleScience\n",
    "%cd /home/aistudio/work\n",
    "!git clone https://gitee.com/paddlepaddle/PaddleScience.git\n",
    "%cd /home/aistudio/work/PaddleScience\n",
    "!git checkout develop\n",
    "# 拉取最新代码\n",
    "!git pull\n",
    "!git log -1\n",
    "!pip install -e . -i https://pypi.tuna.tsinghua.edu.cn/simple\n",
    "!pip install protobuf==3.20.3 -i https://pypi.tuna.tsinghua.edu.cn/simple"
   ]
  },
  {
   "cell_type": "code",
   "execution_count": 7,
   "metadata": {
    "execution": {
     "iopub.execute_input": "2025-06-09T08:03:52.924808Z",
     "iopub.status.busy": "2025-06-09T08:03:52.924369Z",
     "iopub.status.idle": "2025-06-09T08:03:55.361723Z",
     "shell.execute_reply": "2025-06-09T08:03:55.360880Z",
     "shell.execute_reply.started": "2025-06-09T08:03:52.924780Z"
    },
    "scrolled": true,
    "tags": []
   },
   "outputs": [
    {
     "name": "stdout",
     "output_type": "stream",
     "text": [
      "commit: f41f081861203441adf3f235bfa854c6fd312d1d\r\n",
      "cuda: 11.8\r\n",
      "cudnn: 8.6.0\r\n",
      "nccl: 21602\r\n",
      "xpu_xre: False\r\n",
      "xpu_xccl: False\r\n",
      "xpu_xhpc: False\r\n",
      "cinn: 0.3.0\r\n"
     ]
    }
   ],
   "source": [
    "!python -c \"import paddle; paddle.version.show()\""
   ]
  },
  {
   "cell_type": "code",
   "execution_count": 8,
   "metadata": {
    "execution": {
     "iopub.execute_input": "2025-06-09T08:03:55.386588Z",
     "iopub.status.busy": "2025-06-09T08:03:55.386392Z",
     "iopub.status.idle": "2025-06-09T08:03:55.389706Z",
     "shell.execute_reply": "2025-06-09T08:03:55.389099Z",
     "shell.execute_reply.started": "2025-06-09T08:03:55.386566Z"
    },
    "scrolled": true,
    "tags": []
   },
   "outputs": [],
   "source": [
    "from typing import Tuple, Dict"
   ]
  },
  {
   "cell_type": "markdown",
   "metadata": {},
   "source": [
    "## 问题简介\n",
    "\n",
    "Volterra integral equation(沃尔泰拉积分方程)是一种积分方程，即方程中含有对待求解函数的积分运算，其有两种形式，如下所示\n",
    "\n",
    "$$\n",
    "\\begin{aligned}\n",
    "  f(t) &= \\int_a^t K(t, s) x(s) d s \\\\\n",
    "  x(t) &= f(t)+\\int_a^t K(t, s) x(s) d s\n",
    "\\end{aligned}\n",
    "$$\n",
    "\n",
    "在本次作业中，我们将复现官方示例，并搜索了额外四个沃尔泰拉积分方程问题，进行编码求解\n"
   ]
  },
  {
   "cell_type": "markdown",
   "metadata": {},
   "source": [
    "## 官方示例\n",
    "在该小节中，我们对官方提供的一个实例进行了复现"
   ]
  },
  {
   "cell_type": "markdown",
   "metadata": {
    "tags": []
   },
   "source": [
    "### 1. 问题定义\n",
    "\n",
    "假设存在如下 IDE 方程：\n",
    "\n",
    "$$\n",
    "u(t) = -\\dfrac{du}{dt} + \\int_{t_0}^t e^{t-s} u(s) d s\n",
    "$$\n",
    "\n",
    "其中 $u(t)$ 就是待求解的函数，而 $-\\dfrac{du}{dt}$ 对应了 $f(t)$，$e^{t-s}$ 对应了 $K(t,s)$。\n",
    "因此可以利用神经网络模型，以 $t$ 为输入，$u(t)$ 为输出，根据上述方程构建微分约束，进行无监督学习最终拟合出待求解的函数 $u(t)$。\n",
    "\n",
    "为了方便在计算机中进行求解，我们将上式进行移项，让积分项作为左侧，非积分项移动到右侧，如下所示：\n",
    "\n",
    "$$\n",
    "\\int_{t_0}^t e^{t-s} u(s) d s = u(t) + \\dfrac{du}{dt}\n",
    "$$\n"
   ]
  },
  {
   "cell_type": "markdown",
   "metadata": {},
   "source": [
    "### 2. 问题求解\n",
    "\n",
    "接下来开始讲解如何将问题一步一步地转化为 PaddleScience 代码，用深度学习的方法求解该问题。\n",
    "为了快速理解 PaddleScience，接下来仅对模型构建、方程构建、计算域构建等关键步骤进行阐述，而其余细节请参考 [API文档](https://paddlescience-docs.readthedocs.io/zh/latest/zh/api/arch/)。\n",
    "\n"
   ]
  },
  {
   "cell_type": "code",
   "execution_count": 9,
   "metadata": {
    "execution": {
     "iopub.execute_input": "2025-06-09T08:03:55.391070Z",
     "iopub.status.busy": "2025-06-09T08:03:55.390822Z",
     "iopub.status.idle": "2025-06-09T08:03:57.310168Z",
     "shell.execute_reply": "2025-06-09T08:03:57.309153Z",
     "shell.execute_reply.started": "2025-06-09T08:03:55.391050Z"
    },
    "scrolled": true,
    "tags": []
   },
   "outputs": [],
   "source": [
    "# 引入必要模块\n",
    "from typing import Dict\n",
    "\n",
    "import numpy as np\n",
    "import paddle\n",
    "from matplotlib import pyplot as plt\n",
    "\n",
    "import ppsci\n",
    "from ppsci.autodiff import jacobian\n",
    "from ppsci.utils import config\n",
    "from ppsci.utils import logger\n",
    "\n",
    "# set random seed for reproducibility\n",
    "ppsci.utils.misc.set_random_seed(42)\n",
    "\n",
    "# set output directory\n",
    "OUTPUT_DIR = \"./output_Volterra_IDE\"\n",
    "logger.init_logger(\"ppsci\", f\"{OUTPUT_DIR}/train.log\", \"info\")"
   ]
  },
  {
   "cell_type": "markdown",
   "metadata": {},
   "source": [
    "### 3.1 模型构建\n",
    "\n",
    "在上述问题中，我们确定了输入为 $t$，输出为 $u(t)$，因此我们使用，用 PaddleScience 代码表示如下：\n"
   ]
  },
  {
   "cell_type": "code",
   "execution_count": 10,
   "metadata": {
    "execution": {
     "iopub.execute_input": "2025-06-09T08:03:57.311818Z",
     "iopub.status.busy": "2025-06-09T08:03:57.311118Z",
     "iopub.status.idle": "2025-06-09T08:03:59.447561Z",
     "shell.execute_reply": "2025-06-09T08:03:59.446785Z",
     "shell.execute_reply.started": "2025-06-09T08:03:57.311790Z"
    },
    "scrolled": true,
    "tags": []
   },
   "outputs": [
    {
     "name": "stderr",
     "output_type": "stream",
     "text": [
      "W0609 16:03:57.317126  2605 gpu_resources.cc:119] Please NOTE: device: 0, GPU Compute Capability: 7.0, Driver API Version: 12.0, Runtime API Version: 11.8\r\n",
      "W0609 16:03:57.318248  2605 gpu_resources.cc:164] device: 0, cuDNN Version: 8.9.\r\n"
     ]
    }
   ],
   "source": [
    "# set model\n",
    "model = ppsci.arch.MLP((\"x\",), (\"u\",), 3, 20)"
   ]
  },
  {
   "cell_type": "markdown",
   "metadata": {},
   "source": [
    "### 3.2 计算域构建\n",
    "\n",
    "Volterra_IDE 问题的积分域是 $a$ ~ $t$，其中 `a` 为固定常数 0，`t` 的范围为 0 ~ 5，因此可以使用PaddleScience 内置的一维几何 `TimeDomain` 作为计算域。\n",
    "\n"
   ]
  },
  {
   "cell_type": "code",
   "execution_count": 11,
   "metadata": {
    "execution": {
     "iopub.execute_input": "2025-06-09T08:03:59.621431Z",
     "iopub.status.busy": "2025-06-09T08:03:59.621121Z",
     "iopub.status.idle": "2025-06-09T08:03:59.625716Z",
     "shell.execute_reply": "2025-06-09T08:03:59.625045Z",
     "shell.execute_reply.started": "2025-06-09T08:03:59.621405Z"
    },
    "scrolled": true,
    "tags": []
   },
   "outputs": [],
   "source": [
    "# set geometry\n",
    "BOUNDS = (0, 5)\n",
    "geom = {\"timedomain\": ppsci.geometry.TimeDomain(BOUNDS[0], BOUNDS[1])}"
   ]
  },
  {
   "cell_type": "markdown",
   "metadata": {},
   "source": [
    "为了在计算时，准确快速地访问具体变量的值，我们在这里指定网络模型的输入变量名是 `\"x\"`，输出变量名是 `\"u\"`，接着通过指定 `MLP` 的隐藏层层数、神经元个数，我们就实例化出了神经网络模型 `model`。\n"
   ]
  },
  {
   "cell_type": "markdown",
   "metadata": {},
   "source": [
    "### 3.3 方程构建\n",
    "\n",
    "由于 Volterra_IDE 使用的是积分方程，因此可以直接使用 PaddleScience 内置的 `ppsci.equation.Volterra`，并指定所需的参数：积分下限 `a`、`t` 的离散取值点数 `num_points`、一维高斯积分点的个数 `quad_deg`、$K(t,s)$ 核函数 `kernel_func`、$u(t) - f(t)$ 等式右侧表达式 `func`。\n"
   ]
  },
  {
   "cell_type": "code",
   "execution_count": 12,
   "metadata": {
    "execution": {
     "iopub.execute_input": "2025-06-09T08:04:02.612560Z",
     "iopub.status.busy": "2025-06-09T08:04:02.612126Z",
     "iopub.status.idle": "2025-06-09T08:04:02.619008Z",
     "shell.execute_reply": "2025-06-09T08:04:02.618375Z",
     "shell.execute_reply.started": "2025-06-09T08:04:02.612524Z"
    },
    "scrolled": true,
    "tags": []
   },
   "outputs": [],
   "source": [
    "# set equation\n",
    "QUAD_DEG = 20\n",
    "NPOINT_INTERIOR = 12\n",
    "NPOINT_IC = 1\n",
    "\n",
    "def kernel_func(x, s):\n",
    "    return np.exp(s - x)\n",
    "\n",
    "def func(out):\n",
    "    x, u = out[\"x\"], out[\"u\"]\n",
    "    return jacobian(u, x) + u\n",
    "\n",
    "equation = {\n",
    "    \"volterra\": ppsci.equation.Volterra(\n",
    "        BOUNDS[0],\n",
    "        NPOINT_INTERIOR,\n",
    "        QUAD_DEG,\n",
    "        kernel_func,\n",
    "        func,\n",
    "    )\n",
    "}\n"
   ]
  },
  {
   "cell_type": "markdown",
   "metadata": {},
   "source": [
    "### 3.4 约束构建\n"
   ]
  },
  {
   "cell_type": "markdown",
   "metadata": {},
   "source": [
    "#### 3.4.1 内部点约束\n",
    "本文采用无监督学习的方式，对移项后方程的左、右两侧进行约束，让其尽量相等。\n",
    "\n",
    "由于等式左侧涉及到积分计算（实际采用高斯积分近似计算），因此在 0 ~ 5 区间内采样出多个 `t_i` 点后，还需要计算其用于高斯积分的点集，即对每一个 `(0,t_i)` 区间，都计算出一一对应的高斯积分点集 `quad_i` 和点权 `weight_i`。PaddleScience 将这一步作为输入数据的预处理，加入到代码中，如下所示\n"
   ]
  },
  {
   "cell_type": "code",
   "execution_count": 24,
   "metadata": {
    "execution": {
     "iopub.execute_input": "2025-06-09T08:07:15.293927Z",
     "iopub.status.busy": "2025-06-09T08:07:15.293534Z",
     "iopub.status.idle": "2025-06-09T08:07:15.301608Z",
     "shell.execute_reply": "2025-06-09T08:07:15.300920Z",
     "shell.execute_reply.started": "2025-06-09T08:07:15.293900Z"
    },
    "scrolled": true,
    "tags": []
   },
   "outputs": [],
   "source": [
    "QUAD_DEG = 20\n",
    "NPOINT_INTERIOR = 12\n",
    "NPOINT_IC = 1\n",
    "\n",
    "def input_data_quad_transform(\n",
    "    input: Dict[str, np.ndarray],\n",
    "    weight: Dict[str, np.ndarray],\n",
    "    label: Dict[str, np.ndarray],\n",
    ") -> Tuple[\n",
    "    Dict[str, paddle.Tensor], Dict[str, paddle.Tensor], Dict[str, paddle.Tensor]\n",
    "]:\n",
    "    \"\"\"Get sampling points for integral.\n",
    "\n",
    "    Args:\n",
    "        input (Dict[str, paddle.Tensor]): Raw input dict.\n",
    "        weight (Dict[str, paddle.Tensor]): Raw weight dict.\n",
    "        label (Dict[str, paddle.Tensor]): Raw label dict.\n",
    "\n",
    "    Returns:\n",
    "        Tuple[ Dict[str, paddle.Tensor], Dict[str, paddle.Tensor], Dict[str, paddle.Tensor] ]:\n",
    "            Input dict contained sampling points, weight dict and label dict.\n",
    "    \"\"\"\n",
    "    x = input[\"x\"]  # N points.\n",
    "    x_quad = equation[\"volterra\"].get_quad_points(x).reshape([-1, 1])  # NxQ\n",
    "    x_quad = paddle.concat((x, x_quad), axis=0)  # M+MxQ: [M|Q1|Q2,...,QM|]\n",
    "    return (\n",
    "        {\n",
    "            **input,\n",
    "            \"x\": x_quad,\n",
    "        },\n",
    "        weight,\n",
    "        label,\n",
    "    )\n",
    "\n",
    "# interior constraint\n",
    "ide_constraint = ppsci.constraint.InteriorConstraint(\n",
    "    equation[\"volterra\"].equations,\n",
    "    {\"volterra\": 0},\n",
    "    geom[\"timedomain\"],\n",
    "    {\n",
    "        \"dataset\": {\n",
    "            \"name\": \"IterableNamedArrayDataset\",\n",
    "            \"transforms\": (\n",
    "                {\n",
    "                    \"FunctionalTransform\": {\n",
    "                        \"transform_func\": input_data_quad_transform,\n",
    "                    },\n",
    "                },\n",
    "            ),\n",
    "        },\n",
    "        \"batch_size\": NPOINT_INTERIOR,\n",
    "        \"iters_per_epoch\": ITERS_PER_EPOCH,\n",
    "    },\n",
    "    ppsci.loss.MSELoss(\"mean\"),\n",
    "    evenly=True,\n",
    "    name=\"EQ\",\n",
    ")"
   ]
  },
  {
   "cell_type": "markdown",
   "metadata": {},
   "source": [
    "#### 3.4.2 初值约束\n",
    "\n",
    "在 $t=0$ 时，有以下初值条件：\n",
    "\n",
    "$$\n",
    "u(0) = e^{-t} \\cosh(t)|_{t=0} = e^{0} \\cosh(0) = 1\n",
    "$$\n",
    "\n",
    "因此可以加入 `t=0` 时的初值条件，代码如下所示\n"
   ]
  },
  {
   "cell_type": "code",
   "execution_count": 25,
   "metadata": {
    "execution": {
     "iopub.execute_input": "2025-06-09T08:07:16.537214Z",
     "iopub.status.busy": "2025-06-09T08:07:16.536798Z",
     "iopub.status.idle": "2025-06-09T08:07:16.543979Z",
     "shell.execute_reply": "2025-06-09T08:07:16.543315Z",
     "shell.execute_reply.started": "2025-06-09T08:07:16.537185Z"
    },
    "scrolled": true,
    "tags": []
   },
   "outputs": [],
   "source": [
    "# initial condition\n",
    "def u_solution_func(in_):\n",
    "    if isinstance(in_[\"x\"], paddle.Tensor):\n",
    "        return paddle.exp(-in_[\"x\"]) * paddle.cosh(in_[\"x\"])\n",
    "    return np.exp(-in_[\"x\"]) * np.cosh(in_[\"x\"])\n",
    "\n",
    "ic = ppsci.constraint.BoundaryConstraint(\n",
    "    {\"u\": lambda out: out[\"u\"]},\n",
    "    {\"u\": u_solution_func},\n",
    "    geom[\"timedomain\"],\n",
    "    {\n",
    "        \"dataset\": {\"name\": \"IterableNamedArrayDataset\"},\n",
    "        \"batch_size\": NPOINT_IC,\n",
    "        \"iters_per_epoch\": ITERS_PER_EPOCH,\n",
    "    },\n",
    "    ppsci.loss.MSELoss(\"mean\"),\n",
    "    criteria=geom[\"timedomain\"].on_initial,\n",
    "    name=\"IC\",\n",
    ")\n"
   ]
  },
  {
   "cell_type": "markdown",
   "metadata": {},
   "source": [
    "在微分方程约束、初值约束构建完毕之后，以我们刚才的命名为关键字，封装到一个字典中，方便后续访问。\n"
   ]
  },
  {
   "cell_type": "code",
   "execution_count": 26,
   "metadata": {
    "execution": {
     "iopub.execute_input": "2025-06-09T08:07:17.476069Z",
     "iopub.status.busy": "2025-06-09T08:07:17.475660Z",
     "iopub.status.idle": "2025-06-09T08:07:17.479387Z",
     "shell.execute_reply": "2025-06-09T08:07:17.478733Z",
     "shell.execute_reply.started": "2025-06-09T08:07:17.476044Z"
    },
    "scrolled": true,
    "tags": []
   },
   "outputs": [],
   "source": [
    "# wrap constraints together\n",
    "constraint = {\n",
    "    ide_constraint.name: ide_constraint,\n",
    "    ic.name: ic,\n",
    "}"
   ]
  },
  {
   "cell_type": "markdown",
   "metadata": {},
   "source": [
    "### 3.5 超参数设定\n",
    "\n",
    "接下来我们需要指定训练轮数和学习率，此处我们按实验经验，让 `L-BFGS` 优化器进行一轮优化即可，但一轮优化内的 `max_iters` 数可以设置为一个较大的一个数 `15000`。\n",
    "\n"
   ]
  },
  {
   "cell_type": "code",
   "execution_count": 27,
   "metadata": {
    "execution": {
     "iopub.execute_input": "2025-06-09T08:07:18.832576Z",
     "iopub.status.busy": "2025-06-09T08:07:18.832188Z",
     "iopub.status.idle": "2025-06-09T08:07:18.835698Z",
     "shell.execute_reply": "2025-06-09T08:07:18.835076Z",
     "shell.execute_reply.started": "2025-06-09T08:07:18.832551Z"
    },
    "scrolled": true,
    "tags": []
   },
   "outputs": [],
   "source": [
    "# set training hyper-parameters\n",
    "EPOCHS = 1"
   ]
  },
  {
   "cell_type": "markdown",
   "metadata": {},
   "source": [
    "### 3.6 优化器构建\n",
    "\n",
    "训练过程会调用优化器来更新模型参数，此处选择较为常用的 `LBFGS` 优化器。\n"
   ]
  },
  {
   "cell_type": "code",
   "execution_count": 28,
   "metadata": {
    "execution": {
     "iopub.execute_input": "2025-06-09T08:07:20.012411Z",
     "iopub.status.busy": "2025-06-09T08:07:20.012016Z",
     "iopub.status.idle": "2025-06-09T08:07:20.016324Z",
     "shell.execute_reply": "2025-06-09T08:07:20.015621Z",
     "shell.execute_reply.started": "2025-06-09T08:07:20.012384Z"
    },
    "scrolled": true,
    "tags": []
   },
   "outputs": [],
   "source": [
    "# set optimizer\n",
    "optimizer = ppsci.optimizer.LBFGS(\n",
    "    learning_rate=1,\n",
    "    max_iter=15000,\n",
    "    max_eval=1250,\n",
    "    tolerance_grad=1e-8,\n",
    "    tolerance_change=0,\n",
    "    history_size=100,\n",
    ")(model)"
   ]
  },
  {
   "cell_type": "markdown",
   "metadata": {},
   "source": [
    "### 3.7 评估器构建\n",
    "\n",
    "在训练过程中通常会按一定轮数间隔，用验证集（测试集）评估当前模型的训练情况，因此使用 `ppsci.validate.GeometryValidator` 构建评估器。\n"
   ]
  },
  {
   "cell_type": "code",
   "execution_count": 29,
   "metadata": {
    "execution": {
     "iopub.execute_input": "2025-06-09T08:07:21.011311Z",
     "iopub.status.busy": "2025-06-09T08:07:21.010904Z",
     "iopub.status.idle": "2025-06-09T08:07:21.016769Z",
     "shell.execute_reply": "2025-06-09T08:07:21.016148Z",
     "shell.execute_reply.started": "2025-06-09T08:07:21.011284Z"
    },
    "scrolled": true,
    "tags": []
   },
   "outputs": [],
   "source": [
    "# set validator\n",
    "NPOINT_EVAL = 100\n",
    "l2rel_validator = ppsci.validate.GeometryValidator(\n",
    "    {\"u\": lambda out: out[\"u\"]},\n",
    "    {\"u\": u_solution_func},\n",
    "    geom[\"timedomain\"],\n",
    "    {\n",
    "        \"dataset\": \"IterableNamedArrayDataset\",\n",
    "        \"total_size\": NPOINT_EVAL,\n",
    "    },\n",
    "    ppsci.loss.L2RelLoss(),\n",
    "    evenly=True,\n",
    "    metric={\"L2Rel\": ppsci.metric.L2Rel()},\n",
    "    name=\"L2Rel_Validator\",\n",
    ")\n",
    "validator = {l2rel_validator.name: l2rel_validator}"
   ]
  },
  {
   "cell_type": "markdown",
   "metadata": {},
   "source": [
    "### 3.8 模型训练\n",
    "\n",
    "完成上述设置之后，只需要将上述实例化的对象按顺序传递给 `ppsci.solver.Solver`，然后启动训练。\n"
   ]
  },
  {
   "cell_type": "code",
   "execution_count": 30,
   "metadata": {
    "execution": {
     "iopub.execute_input": "2025-06-09T08:07:22.228417Z",
     "iopub.status.busy": "2025-06-09T08:07:22.228025Z",
     "iopub.status.idle": "2025-06-09T08:07:23.277016Z",
     "shell.execute_reply": "2025-06-09T08:07:23.276133Z",
     "shell.execute_reply.started": "2025-06-09T08:07:22.228391Z"
    },
    "scrolled": true,
    "tags": []
   },
   "outputs": [
    {
     "name": "stdout",
     "output_type": "stream",
     "text": [
      "[2025/06/09 16:07:22] ppsci INFO: Using paddlepaddle develop(f41f081) on device Place(gpu:0)\u001b[0m\r\n",
      "\u001b[1;36m[2025/06/09 16:07:22] ppsci MESSAGE: Set to_static=False for computational optimization.\u001b[0m\r\n",
      "[2025/06/09 16:07:23] ppsci INFO: [Train][Epoch 1/1][Iter 1/1] lr: 1.00000, loss: 0.00000, EQ: 0.00000, IC: 0.00000, batch_cost: 0.99334s, reader_cost: 0.00067s, ips: 254.70, eta: 0:00:00\u001b[0m\r\n",
      "[2025/06/09 16:07:23] ppsci INFO: [Eval][Epoch 1/1][Iter 1/1] L2Rel_Validator/loss: 0.00024, batch_cost: 0.00132s, reader_cost: 0.00002s, ips: 75714.58, eta: 0:00:00\u001b[0m\r\n",
      "[2025/06/09 16:07:23] ppsci INFO: [Eval][Epoch 1][Avg] L2Rel_Validator/loss: 0.00024, L2Rel_Validator/L2Rel.u: 0.00024\u001b[0m\r\n",
      "\u001b[1;36m[2025/06/09 16:07:23] ppsci MESSAGE: Finish saving checkpoint to: ./output_Volterra_IDE/checkpoints/best_model\u001b[0m\r\n",
      "[2025/06/09 16:07:23] ppsci INFO: [Eval][Epoch 1][best metric: 0.0002393175382167101]\u001b[0m\r\n",
      "\u001b[1;36m[2025/06/09 16:07:23] ppsci MESSAGE: Finish saving checkpoint to: ./output_Volterra_IDE/checkpoints/latest(latest checkpoint will be saved every epoch as expected, but this log will be printed only once for tidy logging)\u001b[0m\r\n"
     ]
    }
   ],
   "source": [
    "# initialize solver\n",
    "solver = ppsci.solver.Solver(\n",
    "    model,\n",
    "    constraint,\n",
    "    OUTPUT_DIR,\n",
    "    optimizer,\n",
    "    epochs=EPOCHS,\n",
    "    iters_per_epoch=ITERS_PER_EPOCH,\n",
    "    eval_during_train=True,\n",
    "    eval_freq=1,\n",
    "    equation=equation,\n",
    "    geom=geom,\n",
    "    validator=validator,\n",
    "    eval_with_no_grad=True,\n",
    ")\n",
    "# train model\n",
    "solver.train()"
   ]
  },
  {
   "cell_type": "markdown",
   "metadata": {},
   "source": [
    "### 3.9 结果可视化\n",
    "\n",
    "在模型训练完毕之后，我们可以手动构造 0 ~ 5 区间内均匀 100 个点作为评估的积分上限 `t` 作为输入数据进行预测，并可视化结果。\n"
   ]
  },
  {
   "cell_type": "code",
   "execution_count": 31,
   "metadata": {
    "execution": {
     "iopub.execute_input": "2025-06-09T08:07:26.267043Z",
     "iopub.status.busy": "2025-06-09T08:07:26.266655Z",
     "iopub.status.idle": "2025-06-09T08:07:27.012148Z",
     "shell.execute_reply": "2025-06-09T08:07:27.011273Z",
     "shell.execute_reply.started": "2025-06-09T08:07:26.267016Z"
    },
    "scrolled": true,
    "tags": []
   },
   "outputs": [
    {
     "data": {
      "image/png": "[encoded data removed]",
      "text/plain": [
       "<Figure size 640x480 with 1 Axes>"
      ]
     },
     "metadata": {},
     "output_type": "display_data"
    }
   ],
   "source": [
    "# visualize prediction after finished training\n",
    "input_data = geom[\"timedomain\"].uniform_points(100)\n",
    "label_data = u_solution_func({\"x\": input_data})\n",
    "output_data = solver.predict({\"x\": input_data})[\"u\"].numpy()\n",
    "\n",
    "plt.plot(input_data, label_data, \"-\", label=r\"$u(t)$\")\n",
    "plt.plot(input_data, output_data, \"o\", label=\"pred\", markersize=4.0)\n",
    "plt.legend()\n",
    "plt.xlabel(r\"$t$\")\n",
    "plt.ylabel(r\"$u$\")\n",
    "plt.title(r\"$u-t$\")\n",
    "plt.savefig(\"./Volterra_IDE.png\", dpi=200)"
   ]
  },
  {
   "cell_type": "markdown",
   "metadata": {},
   "source": [
    "## 可复用求解函数代码编写\n",
    "为方便代码复用，我将原始的Volterra积分求解方程代码封装了一个统一的调用函数`build_and_solve_volterra`。\n",
    "```python\n",
    "def build_and_solve_volterra(kernel_func, f_func, exact_sol_func, eq_name=\"VolterraEq\", \n",
    "                            bounds=(0, 5), npoint_interior=20, quad_deg=40):\n",
    "```\n",
    "此函数作为统一的求解接口接受以下参数：\n",
    "\n",
    "- kernel_func: 核函数K(t,s)\n",
    "- f_func: 非积分项函数f(t)\n",
    "- exact_sol_func: 精确解函数\n",
    "- eq_name: 方程标识符\n",
    "- bounds: 时间域边界\n",
    "- npoint_interior: 积分点数量\n",
    "- quad_deg: 高斯积分阶数"
   ]
  },
  {
   "cell_type": "markdown",
   "metadata": {},
   "source": [
    "### Part1. PINN模型构建\n",
    "在这里，参照示例代码，我们使用3层全连接层作为求解器，输入层为时间坐标x，输出层为解函数u(x)，隐藏层设计为20神经元，激活函数采用tanh\n",
    "```python\n",
    "model = ppsci.arch.MLP((\"x\",), (\"u\",), 3, 20, \"tanh\")\n",
    "```"
   ]
  },
  {
   "cell_type": "markdown",
   "metadata": {},
   "source": [
    "### Part2. 计算域和方程定义\n",
    "在这里，定义时间区间为计算域\n",
    "```python\n",
    "timedomain = ppsci.geometry.TimeDomain(*bounds)\n",
    "geom = {\"timedomain\": timedomain}\n",
    "```\n",
    "定义方程右侧残差和待求解的Volterra方程\n",
    "```python\n",
    "def func(out):\n",
    "    x, u = out[\"x\"], out[\"u\"]\n",
    "    return u - f_func(x)\n",
    "\n",
    "equation = {\n",
    "    \"volterra\": ppsci.equation.Volterra(\n",
    "        bounds[0], npoint_interior, quad_deg, kernel_func, func\n",
    "    )\n",
    "}\n",
    "```\n"
   ]
  },
  {
   "cell_type": "markdown",
   "metadata": {},
   "source": [
    "### Part3. 高斯积分点处理\n",
    "提取高斯积分点并扩展输入数据\n",
    "```python\n",
    "def input_data_quad_transform(input, weight, label):\n",
    "    x = input[\"x\"]\n",
    "    x_quad = equation[\"volterra\"].get_quad_points(x).reshape([-1, 1])\n",
    "    x_quad = paddle.concat((x, x_quad), axis=0)\n",
    "    return {\"x\": x_quad}, weight, label\n",
    "\n",
    "```"
   ]
  },
  {
   "cell_type": "markdown",
   "metadata": {},
   "source": [
    "### Part4. 约束条件设置\n",
    "这里设置两类约束，分别为积分方程约束和初值约束，分别用于强制网络满足积分方程和确保初始条件满足\n",
    "```python\n",
    "# 积分方程约束\n",
    "ide_constraint = ppsci.constraint.InteriorConstraint(...)\n",
    "\n",
    "# 初值约束\n",
    "ic = ppsci.constraint.BoundaryConstraint(...)\n",
    "\n",
    "# 约束集合\n",
    "constraint = {\n",
    "    ide_constraint.name: ide_constraint,\n",
    "    ic.name: ic,\n",
    "}\n",
    "\n",
    "```"
   ]
  },
  {
   "cell_type": "markdown",
   "metadata": {},
   "source": [
    "### Part5. 优化器、验证器和求解器配置\n",
    "```python\n",
    "optimizer = ppsci.optimizer.LBFGS(...) (model)\n",
    "\n",
    "validator = {...}\n",
    "\n",
    "solver = ppsci.solver.Solver(...)\n",
    "```\n"
   ]
  },
  {
   "cell_type": "markdown",
   "metadata": {},
   "source": [
    "### Part6. 模型训练\n",
    "```python\n",
    "solver.train()\n",
    "```"
   ]
  },
  {
   "cell_type": "markdown",
   "metadata": {},
   "source": [
    "### Part7. 预测与可视化\n",
    "```python\n",
    "input_data = timedomain.uniform_points(200)\n",
    "output_data = solver.predict({\"x\": input_data})[\"u\"].numpy()\n",
    "label_data = exact_sol_func({\"x\": input_data})\n",
    "\n",
    "plt.figure(figsize=(10, 6))\n",
    "plt.plot(input_data, label_data, label=\"Exact\", linestyle=\"-\", linewidth=3)\n",
    "plt.plot(input_data, output_data, \"o\", label=\"Predicted\", markersize=6)\n",
    "plt.legend(fontsize=12)\n",
    "plt.xlabel(\"t\", fontsize=14)\n",
    "plt.ylabel(\"u(t)\", fontsize=14)\n",
    "plt.title(f\"Solution of {eq_name}\", fontsize=16)\n",
    "plt.grid(True)\n",
    "plt.savefig(f\"{OUTPUT_DIR}/sol_{eq_name}.png\", dpi=300, bbox_inches=\"tight\")\n",
    "plt.show()\n",
    "\n",
    "```"
   ]
  },
  {
   "cell_type": "markdown",
   "metadata": {},
   "source": [
    "### 求解函数代码如下所示"
   ]
  },
  {
   "cell_type": "code",
   "execution_count": 40,
   "metadata": {
    "execution": {
     "iopub.execute_input": "2025-06-09T08:40:49.834164Z",
     "iopub.status.busy": "2025-06-09T08:40:49.833760Z",
     "iopub.status.idle": "2025-06-09T08:40:49.853248Z",
     "shell.execute_reply": "2025-06-09T08:40:49.852657Z",
     "shell.execute_reply.started": "2025-06-09T08:40:49.834138Z"
    },
    "scrolled": true,
    "tags": []
   },
   "outputs": [],
   "source": [
    "import numpy as np\n",
    "import paddle\n",
    "from matplotlib import pyplot as plt\n",
    "\n",
    "import ppsci\n",
    "from ppsci.autodiff import jacobian\n",
    "from ppsci.utils import logger\n",
    "\n",
    "ppsci.utils.misc.set_random_seed(42)\n",
    "\n",
    "\n",
    "def build_and_solve_volterra(kernel_func, f_func, exact_sol_func, eq_name=\"VolterraEq\", \n",
    "                            bounds=(0, 5), npoint_interior=20, quad_deg=40):\n",
    "    \"\"\"构建并求解沃尔泰拉积分方程\n",
    "    \n",
    "    Args:\n",
    "        kernel_func: 核函数 K(t, s)\n",
    "        f_func: 非积分项函数 f(t)\n",
    "        exact_sol_func: 精确解函数\n",
    "        eq_name: 方程名称标识\n",
    "        bounds: 计算域边界\n",
    "        npoint_interior: 内部点数量\n",
    "        quad_deg: 高斯积分阶数\n",
    "    \"\"\"\n",
    "    OUTPUT_DIR = f\"./output_{eq_name}\"\n",
    "    logger.init_logger(\"ppsci\", f\"{OUTPUT_DIR}/train.log\", \"info\")\n",
    "\n",
    "    # 1. 模型构建\n",
    "    model = ppsci.arch.MLP((\"x\",), (\"u\",), 3, 20, \"tanh\")\n",
    "\n",
    "    # 2. 计算域构建\n",
    "    timedomain = ppsci.geometry.TimeDomain(*bounds)\n",
    "    geom = {\"timedomain\": timedomain}\n",
    "\n",
    "    # 3. 超参数设置\n",
    "    NPOINT_IC = 1\n",
    "    ITERS_PER_EPOCH = 1\n",
    "    EPOCHS = 1\n",
    "\n",
    "    # 4. 方程定义\n",
    "    def func(out):\n",
    "        \"\"\"定义方程右侧函数\"\"\"\n",
    "        x, u = out[\"x\"], out[\"u\"]\n",
    "        return u - f_func(x)\n",
    "\n",
    "    equation = {\n",
    "        \"volterra\": ppsci.equation.Volterra(\n",
    "            bounds[0], npoint_interior, quad_deg, kernel_func, func\n",
    "        )\n",
    "    }\n",
    "\n",
    "    # 5. 输入数据转换（用于高斯积分）\n",
    "    def input_data_quad_transform(input, weight, label):\n",
    "        x = input[\"x\"]\n",
    "        x_quad = equation[\"volterra\"].get_quad_points(x).reshape([-1, 1])\n",
    "        x_quad = paddle.concat((x, x_quad), axis=0)\n",
    "        return {\"x\": x_quad}, weight, label\n",
    "\n",
    "    # 6. 约束构建 - 积分方程约束\n",
    "    ide_constraint = ppsci.constraint.InteriorConstraint(\n",
    "        equation[\"volterra\"].equations,\n",
    "        {\"volterra\": 0},\n",
    "        timedomain,\n",
    "        {\n",
    "            \"dataset\": {\n",
    "                \"name\": \"IterableNamedArrayDataset\",\n",
    "                \"transforms\": (\n",
    "                    {\n",
    "                        \"FunctionalTransform\": {\n",
    "                            \"transform_func\": input_data_quad_transform,\n",
    "                        },\n",
    "                    },\n",
    "                ),\n",
    "            },\n",
    "            \"batch_size\": npoint_interior,\n",
    "            \"iters_per_epoch\": ITERS_PER_EPOCH,\n",
    "        },\n",
    "        ppsci.loss.MSELoss(\"mean\"),\n",
    "        evenly=True,\n",
    "        name=\"EQ\",\n",
    "    )\n",
    "\n",
    "    # 7. 约束构建 - 初值约束\n",
    "    def u0_func(in_):\n",
    "        return exact_sol_func({\"x\": in_[\"x\"]})\n",
    "\n",
    "    ic = ppsci.constraint.BoundaryConstraint(\n",
    "        {\"u\": lambda out: out[\"u\"]},\n",
    "        {\"u\": u0_func},\n",
    "        timedomain,\n",
    "        {\n",
    "            \"dataset\": {\"name\": \"IterableNamedArrayDataset\"},\n",
    "            \"batch_size\": NPOINT_IC,\n",
    "            \"iters_per_epoch\": ITERS_PER_EPOCH,\n",
    "        },\n",
    "        ppsci.loss.MSELoss(\"mean\"),\n",
    "        criteria=timedomain.on_initial,\n",
    "        name=\"IC\",\n",
    "    )\n",
    "\n",
    "    constraint = {\n",
    "        ide_constraint.name: ide_constraint,\n",
    "        ic.name: ic,\n",
    "    }\n",
    "\n",
    "    # 8. 优化器构建\n",
    "    optimizer = ppsci.optimizer.LBFGS(\n",
    "        learning_rate=1,\n",
    "        max_iter=15000,\n",
    "        max_eval=1250,\n",
    "        tolerance_grad=1e-8,\n",
    "        tolerance_change=0,\n",
    "        history_size=100,\n",
    "    )(model)\n",
    "\n",
    "    # 9. 评估器构建\n",
    "    validator = {\n",
    "        \"L2Rel_Validator\": ppsci.validate.GeometryValidator(\n",
    "            {\"u\": lambda out: out[\"u\"]},\n",
    "            {\"u\": exact_sol_func},\n",
    "            timedomain,\n",
    "            {\n",
    "                \"dataset\": \"IterableNamedArrayDataset\",\n",
    "                \"total_size\": 200,\n",
    "            },\n",
    "            ppsci.loss.L2RelLoss(),\n",
    "            evenly=True,\n",
    "            metric={\"L2Rel\": ppsci.metric.L2Rel()},\n",
    "            name=\"L2Rel_Validator\",\n",
    "        )\n",
    "    }\n",
    "\n",
    "    # 10. 求解器构建\n",
    "    solver = ppsci.solver.Solver(\n",
    "        model,\n",
    "        constraint,\n",
    "        OUTPUT_DIR,\n",
    "        optimizer,\n",
    "        epochs=EPOCHS,\n",
    "        iters_per_epoch=ITERS_PER_EPOCH,\n",
    "        eval_during_train=True,\n",
    "        eval_freq=1,\n",
    "        equation=equation,\n",
    "        geom=geom,\n",
    "        validator=validator,\n",
    "        eval_with_no_grad=True,\n",
    "    )\n",
    "\n",
    "    # 11. 模型训练\n",
    "    solver.train()\n",
    "\n",
    "    # 12. 结果可视化\n",
    "    input_data = timedomain.uniform_points(200)\n",
    "    output_data = solver.predict({\"x\": input_data})[\"u\"].numpy()\n",
    "    label_data = exact_sol_func({\"x\": input_data})\n",
    "\n",
    "    plt.figure(figsize=(10, 6))\n",
    "    plt.plot(input_data, label_data, label=\"Exact\", linestyle=\"-\", linewidth=3)\n",
    "    plt.plot(input_data, output_data, \"o\", label=\"Predicted\", markersize=6)\n",
    "    plt.legend(fontsize=12)\n",
    "    plt.xlabel(\"t\", fontsize=14)\n",
    "    plt.ylabel(\"u(t)\", fontsize=14)\n",
    "    plt.title(f\"Solution of {eq_name}\", fontsize=16)\n",
    "    plt.grid(True)\n",
    "    plt.savefig(f\"{OUTPUT_DIR}/sol_{eq_name}.png\", dpi=300, bbox_inches=\"tight\")\n",
    "    plt.show()\n",
    "\n",
    "\n",
    "\n",
    "\n",
    "\n",
    "\n",
    "\n",
    "\n",
    "\n",
    "\n"
   ]
  },
  {
   "cell_type": "markdown",
   "metadata": {},
   "source": [
    "## 示例求解\n",
    "我们选取了四个Volterra方程求解，来验证该函数的正确性和实用性"
   ]
  },
  {
   "cell_type": "markdown",
   "metadata": {},
   "source": [
    "### 示例 A：卷积型 Volterra 方程（官方示例的变体）\n",
    "\n",
    "首先，为了验证编写函数的正确性，我们使用该函数，对官方给出的同一示例进行了测试\n",
    "\n",
    "该 Volterra 积分方程为：\n",
    "\n",
    "$$\n",
    "u(t) = -\\frac{du}{dt} + \\int_0^t e^{s - t} \\, u(s) \\, ds\n",
    "$$\n"
   ]
  },
  {
   "cell_type": "code",
   "execution_count": 41,
   "metadata": {
    "execution": {
     "iopub.execute_input": "2025-06-09T08:40:53.037459Z",
     "iopub.status.busy": "2025-06-09T08:40:53.037058Z",
     "iopub.status.idle": "2025-06-09T08:40:53.043157Z",
     "shell.execute_reply": "2025-06-09T08:40:53.042616Z",
     "shell.execute_reply.started": "2025-06-09T08:40:53.037433Z"
    },
    "scrolled": true,
    "tags": []
   },
   "outputs": [],
   "source": [
    "# ------------------------\r\n",
    "# 示例 A：官方示例的变体\r\n",
    "# 方程: u(t) = -du/dt + ∫₀ᵗ e^{s-t} u(s) ds\r\n",
    "# 精确解: u(t) = e^{-t} cosh(t)\r\n",
    "# ------------------------\r\n",
    "def solve_volterra_eq_A():\r\n",
    "    \"\"\"官方示例的变体\"\"\"\r\n",
    "    def kernel_func(t, s):\r\n",
    "        return np.exp(s - t)\r\n",
    "    \r\n",
    "    def f_func(t):\r\n",
    "        # 精确解的导数\r\n",
    "        if isinstance(t, paddle.Tensor):\r\n",
    "            return -(-paddle.exp(-t) * paddle.cosh(t) + paddle.exp(-t) * paddle.sinh(t))\r\n",
    "        else:\r\n",
    "            return -(-np.exp(-t) * np.cosh(t) + np.exp(-t) * np.sinh(t))\r\n",
    "    \r\n",
    "    def exact_sol(in_):\r\n",
    "        x = in_[\"x\"]\r\n",
    "        if isinstance(x, paddle.Tensor):\r\n",
    "            return paddle.exp(-x) * paddle.cosh(x)\r\n",
    "        else:\r\n",
    "            return np.exp(-x) * np.cosh(x)\r\n",
    "    \r\n",
    "    build_and_solve_volterra(kernel_func, f_func, exact_sol, \r\n",
    "                           eq_name=\"Volterra_Example_A\",\r\n",
    "                           bounds=(0, 5),\r\n",
    "                           npoint_interior=20,\r\n",
    "                           quad_deg=40)"
   ]
  },
  {
   "cell_type": "code",
   "execution_count": 42,
   "metadata": {
    "execution": {
     "iopub.execute_input": "2025-06-09T08:40:53.829962Z",
     "iopub.status.busy": "2025-06-09T08:40:53.829492Z",
     "iopub.status.idle": "2025-06-09T08:40:55.468169Z",
     "shell.execute_reply": "2025-06-09T08:40:55.465059Z",
     "shell.execute_reply.started": "2025-06-09T08:40:53.829935Z"
    },
    "scrolled": true,
    "tags": []
   },
   "outputs": [
    {
     "name": "stdout",
     "output_type": "stream",
     "text": [
      "[2025/06/09 16:40:53] ppsci INFO: Using paddlepaddle develop(f41f081) on device Place(gpu:0)\u001b[0m\r\n",
      "\u001b[1;36m[2025/06/09 16:40:53] ppsci MESSAGE: Set to_static=False for computational optimization.\u001b[0m\r\n",
      "[2025/06/09 16:40:54] ppsci INFO: [Train][Epoch 1/1][Iter 1/1] lr: 1.00000, loss: 0.00000, EQ: 0.00000, IC: 0.00000, batch_cost: 1.06819s, reader_cost: 0.00044s, ips: 768.59, eta: 0:00:00\u001b[0m\r\n",
      "[2025/06/09 16:40:54] ppsci INFO: [Eval][Epoch 1/1][Iter 1/1] L2Rel_Validator/loss: 0.00029, batch_cost: 0.00081s, reader_cost: 0.00001s, ips: 247378.59, eta: 0:00:00\u001b[0m\r\n",
      "[2025/06/09 16:40:54] ppsci INFO: [Eval][Epoch 1][Avg] L2Rel_Validator/loss: 0.00029, L2Rel_Validator/L2Rel.u: 0.00042\u001b[0m\r\n",
      "\u001b[1;36m[2025/06/09 16:40:54] ppsci MESSAGE: Finish saving checkpoint to: ./output_Volterra_Example_A/checkpoints/best_model\u001b[0m\r\n",
      "[2025/06/09 16:40:54] ppsci INFO: [Eval][Epoch 1][best metric: 0.00041789707029238343]\u001b[0m\r\n",
      "\u001b[1;36m[2025/06/09 16:40:54] ppsci MESSAGE: Finish saving checkpoint to: ./output_Volterra_Example_A/checkpoints/latest(latest checkpoint will be saved every epoch as expected, but this log will be printed only once for tidy logging)\u001b[0m\r\n"
     ]
    },
    {
     "data": {
      "image/png": "[encoded data removed]",
      "text/plain": [
       "<Figure size 1000x600 with 1 Axes>"
      ]
     },
     "metadata": {},
     "output_type": "display_data"
    }
   ],
   "source": [
    "solve_volterra_eq_A()"
   ]
  },
  {
   "cell_type": "markdown",
   "metadata": {},
   "source": [
    "从该示例结果看出，我们重构后的调用函数可以给出正确的结果"
   ]
  },
  {
   "cell_type": "markdown",
   "metadata": {},
   "source": [
    "### 示例 B：卷积型 Volterra 方程（多项式方程）\n",
    "\n",
    "## 方程形式\n",
    "\n",
    "本例研究的 Volterra 积分方程为：\n",
    "\n",
    "$$\n",
    "u(t) = t^3 + \\int_0^t (t - s) \\, u(s) \\, ds\n",
    "$$\n",
    "\n",
    "这是一个典型的线性卷积型 Volterra 方程，具有简单的多项式结构，方便用于测试基本求解器的性能。\n",
    "\n",
    "\n",
    "* **核函数：** \\$K(t, s) = t - s\\$，这是一个随时间差线性增长的核函数，表示越靠近当前时刻的历史信息对当前状态的影响越强。\n",
    "* **右侧函数：** \\$f(t) = t^3\\$，一个简单的三次多项式，是问题的驱动项。\n",
    "* **精确解：** \\$u(t) = t^3 + \\frac{t^4}{4}\\$，解析解为多项式形式，可以用于验证数值解的准确性。\n",
    "\n",
    "参数设计\n",
    "\n",
    "* **积分区间：** 选取 \\$t \\in \\[0, 2]\\$，这是一个较短时间区间，方便观察解在初期的发展情况，同时避免多项式爆炸导致数值不稳定。\n",
    "* **积分点数：** 选取 15 个内部积分点，因为这是一个多项式问题，函数变化较平缓，点数不宜过多，兼顾训练效率。\n",
    "* **高斯积分阶数：** 选取 30 阶 Gauss-Legendre 积分，足以保证积分精度，同时控制计算量。\n",
    "\n",
    "* 调用 `build_and_solve_volterra`：统一封装数据生成、神经网络训练、积分计算与结果验证流程。\n",
    "* 设置参数：\n",
    "\n",
    "  * `eq_name=\"Volterra_Example_B\"`：用于命名和结果文件管理。\n",
    "  * `bounds=(0, 2)`：设置时间区间。\n",
    "  * `npoint_interior=15`：控制训练点数。\n",
    "  * `quad_deg=30`：设置高斯积分阶数，兼顾速度与精度。\n",
    "\n"
   ]
  },
  {
   "cell_type": "code",
   "execution_count": 43,
   "metadata": {
    "execution": {
     "iopub.execute_input": "2025-06-09T08:44:09.659542Z",
     "iopub.status.busy": "2025-06-09T08:44:09.659118Z",
     "iopub.status.idle": "2025-06-09T08:44:09.664551Z",
     "shell.execute_reply": "2025-06-09T08:44:09.664032Z",
     "shell.execute_reply.started": "2025-06-09T08:44:09.659516Z"
    },
    "scrolled": true
   },
   "outputs": [],
   "source": [
    "# ------------------------\r\n",
    "# 示例 B：多项式方程\r\n",
    "# 方程: u(t) = t^3 + ∫₀ᵗ (t-s) * u(s) ds\r\n",
    "# 精确解: u(t) = t^3 + t^4/4\r\n",
    "# ------------------------\r\n",
    "def solve_volterra_eq_B():\r\n",
    "    \"\"\"多项式方程\"\"\"\r\n",
    "    def kernel_func(t, s):\r\n",
    "        return t - s\r\n",
    "    \r\n",
    "    def f_func(t):\r\n",
    "        if isinstance(t, paddle.Tensor):\r\n",
    "            return t**3\r\n",
    "        else:\r\n",
    "            return t**3\r\n",
    "    \r\n",
    "    def exact_sol(in_):\r\n",
    "        x = in_[\"x\"]\r\n",
    "        if isinstance(x, paddle.Tensor):\r\n",
    "            return x**3 + x**4/4\r\n",
    "        else:\r\n",
    "            return x**3 + x**4/4\r\n",
    "    \r\n",
    "    build_and_solve_volterra(kernel_func, f_func, exact_sol, \r\n",
    "                           eq_name=\"Volterra_Example_B\",\r\n",
    "                           bounds=(0, 2),\r\n",
    "                           npoint_interior=15,\r\n",
    "                           quad_deg=30)\r\n"
   ]
  },
  {
   "cell_type": "code",
   "execution_count": 44,
   "metadata": {
    "execution": {
     "iopub.execute_input": "2025-06-09T08:44:17.331248Z",
     "iopub.status.busy": "2025-06-09T08:44:17.330867Z",
     "iopub.status.idle": "2025-06-09T08:44:19.405181Z",
     "shell.execute_reply": "2025-06-09T08:44:19.404523Z",
     "shell.execute_reply.started": "2025-06-09T08:44:17.331223Z"
    },
    "scrolled": true
   },
   "outputs": [
    {
     "name": "stdout",
     "output_type": "stream",
     "text": [
      "[2025/06/09 16:44:17] ppsci INFO: Using paddlepaddle develop(f41f081) on device Place(gpu:0)\u001b[0m\r\n",
      "\u001b[1;36m[2025/06/09 16:44:17] ppsci MESSAGE: Set to_static=False for computational optimization.\u001b[0m\r\n",
      "[2025/06/09 16:44:18] ppsci INFO: [Train][Epoch 1/1][Iter 1/1] lr: 1.00000, loss: 0.00001, EQ: 0.00001, IC: 0.00000, batch_cost: 1.45316s, reader_cost: 0.00056s, ips: 320.68, eta: 0:00:00\u001b[0m\r\n",
      "[2025/06/09 16:44:18] ppsci INFO: [Eval][Epoch 1/1][Iter 1/1] L2Rel_Validator/loss: inf, batch_cost: 0.00109s, reader_cost: 0.00001s, ips: 184157.58, eta: 0:00:00\u001b[0m\r\n",
      "[2025/06/09 16:44:18] ppsci INFO: [Eval][Epoch 1][Avg] L2Rel_Validator/loss: inf, L2Rel_Validator/L2Rel.u: 0.18752\u001b[0m\r\n",
      "\u001b[1;36m[2025/06/09 16:44:18] ppsci MESSAGE: Finish saving checkpoint to: ./output_Volterra_Example_B/checkpoints/best_model\u001b[0m\r\n",
      "[2025/06/09 16:44:18] ppsci INFO: [Eval][Epoch 1][best metric: 0.1875220537185669]\u001b[0m\r\n",
      "\u001b[1;36m[2025/06/09 16:44:18] ppsci MESSAGE: Finish saving checkpoint to: ./output_Volterra_Example_B/checkpoints/latest(latest checkpoint will be saved every epoch as expected, but this log will be printed only once for tidy logging)\u001b[0m\r\n"
     ]
    },
    {
     "data": {
      "image/png": "[encoded data removed]",
      "text/plain": [
       "<Figure size 1000x600 with 1 Axes>"
      ]
     },
     "metadata": {},
     "output_type": "display_data"
    }
   ],
   "source": [
    "solve_volterra_eq_B()"
   ]
  },
  {
   "cell_type": "markdown",
   "metadata": {
    "execution": {
     "iopub.execute_input": "2025-06-09T08:44:41.371343Z",
     "iopub.status.busy": "2025-06-09T08:44:41.370793Z",
     "iopub.status.idle": "2025-06-09T08:44:41.375953Z",
     "shell.execute_reply": "2025-06-09T08:44:41.375241Z",
     "shell.execute_reply.started": "2025-06-09T08:44:41.371307Z"
    }
   },
   "source": [
    "从结果可以看到，预测值与真值大致符合。"
   ]
  },
  {
   "cell_type": "markdown",
   "metadata": {},
   "source": [
    "### 示例 C：卷积型 Volterra 方程（指数方程）\n",
    "\n",
    "\n",
    "本例研究的 Volterra 积分方程为：\n",
    "\n",
    "$$\n",
    "u(t) = e^{-t^2} + \\int_0^t e^{s^2 - t^2} \\, u(s) \\, ds\n",
    "$$\n",
    "\n",
    "这是一个具有非线性指数核的卷积型 Volterra 方程，测试数值积分在复杂核函数下的表现。\n",
    "\n",
    "* **核函数：** \\$K(t, s) = e^{s^2 - t^2}\\$，呈现非对称指数增长/衰减形式，历史项随着时间距离的变化对当前状态的影响呈指数变化。\n",
    "* **右侧函数：** \\$f(t) = e^{-t^2}\\$，是一个快速衰减的高斯型函数，驱动项在 \\$t\\$ 增大时迅速趋近于零。\n",
    "* **精确解：** \\$u(t) = e^{-t^2}\\$，解析解与右侧项完全相同，积分项与解本身完美抵消，这一特性为验证数值解提供了良好的基础。\n",
    "\n",
    "参数设置\n",
    "\n",
    "* **积分区间：** 选取 \\$t \\in \\[0, 3]\\$，这是高斯函数主要变化的区间，超过 3 时高斯项已经非常接近零，积分贡献较小。\n",
    "* **积分点数：** 选取 18 个内部积分点，因为指数核函数变化较快，相比多项式方程需要更多的离散点以捕捉精细结构。\n",
    "* **高斯积分阶数：** 选取 40 阶 Gauss-Legendre 积分，以保证在快速变化的指数函数下仍能获得较高的积分精度。\n",
    "\n"
   ]
  },
  {
   "cell_type": "code",
   "execution_count": 47,
   "metadata": {
    "execution": {
     "iopub.execute_input": "2025-06-09T08:47:18.260462Z",
     "iopub.status.busy": "2025-06-09T08:47:18.260056Z",
     "iopub.status.idle": "2025-06-09T08:47:18.267011Z",
     "shell.execute_reply": "2025-06-09T08:47:18.266013Z",
     "shell.execute_reply.started": "2025-06-09T08:47:18.260434Z"
    },
    "scrolled": true
   },
   "outputs": [],
   "source": [
    "# ------------------------\r\n",
    "# 示例 C：指数方程\r\n",
    "# 方程: u(t) = e^{-t^2} + ∫₀ᵗ e^{s^2-t^2} u(s) ds\r\n",
    "# 精确解: u(t) = e^{-t^2}\r\n",
    "# ------------------------\r\n",
    "def solve_volterra_eq_C():\r\n",
    "    \"\"\"指数方程\"\"\"\r\n",
    "    def kernel_func(t, s):\r\n",
    "        return np.exp(s**2 - t**2)\r\n",
    "    \r\n",
    "    def f_func(t):\r\n",
    "        if isinstance(t, paddle.Tensor):\r\n",
    "            return paddle.exp(-t**2)\r\n",
    "        else:\r\n",
    "            return np.exp(-t**2)\r\n",
    "    \r\n",
    "    def exact_sol(in_):\r\n",
    "        x = in_[\"x\"]\r\n",
    "        if isinstance(x, paddle.Tensor):\r\n",
    "            return paddle.exp(-x**2)\r\n",
    "        else:\r\n",
    "            return np.exp(-x**2)\r\n",
    "    \r\n",
    "    build_and_solve_volterra(kernel_func, f_func, exact_sol, \r\n",
    "                           eq_name=\"Volterra_Example_C\",\r\n",
    "                           bounds=(0, 3),\r\n",
    "                           npoint_interior=18,\r\n",
    "                           quad_deg=40)\r\n"
   ]
  },
  {
   "cell_type": "code",
   "execution_count": 48,
   "metadata": {
    "execution": {
     "iopub.execute_input": "2025-06-09T08:47:29.104777Z",
     "iopub.status.busy": "2025-06-09T08:47:29.104362Z",
     "iopub.status.idle": "2025-06-09T08:47:34.150879Z",
     "shell.execute_reply": "2025-06-09T08:47:34.150189Z",
     "shell.execute_reply.started": "2025-06-09T08:47:29.104749Z"
    },
    "scrolled": true
   },
   "outputs": [
    {
     "name": "stdout",
     "output_type": "stream",
     "text": [
      "[2025/06/09 16:47:29] ppsci INFO: Using paddlepaddle develop(f41f081) on device Place(gpu:0)\u001b[0m\r\n",
      "\u001b[1;36m[2025/06/09 16:47:29] ppsci MESSAGE: Set to_static=False for computational optimization.\u001b[0m\r\n",
      "[2025/06/09 16:47:33] ppsci INFO: [Train][Epoch 1/1][Iter 1/1] lr: 1.00000, loss: 0.00000, EQ: 0.00000, IC: 0.00000, batch_cost: 4.41254s, reader_cost: 0.00068s, ips: 167.48, eta: 0:00:00\u001b[0m\r\n",
      "[2025/06/09 16:47:33] ppsci INFO: [Eval][Epoch 1/1][Iter 1/1] L2Rel_Validator/loss: 5.36266, batch_cost: 0.00114s, reader_cost: 0.00001s, ips: 176191.93, eta: 0:00:00\u001b[0m\r\n",
      "[2025/06/09 16:47:33] ppsci INFO: [Eval][Epoch 1][Avg] L2Rel_Validator/loss: 5.36266, L2Rel_Validator/L2Rel.u: 0.79528\u001b[0m\r\n",
      "\u001b[1;36m[2025/06/09 16:47:33] ppsci MESSAGE: Finish saving checkpoint to: ./output_Volterra_Example_C/checkpoints/best_model\u001b[0m\r\n",
      "[2025/06/09 16:47:33] ppsci INFO: [Eval][Epoch 1][best metric: 0.7952754497528076]\u001b[0m\r\n",
      "\u001b[1;36m[2025/06/09 16:47:33] ppsci MESSAGE: Finish saving checkpoint to: ./output_Volterra_Example_C/checkpoints/latest(latest checkpoint will be saved every epoch as expected, but this log will be printed only once for tidy logging)\u001b[0m\r\n"
     ]
    },
    {
     "data": {
      "image/png": "[encoded data removed]",
      "text/plain": [
       "<Figure size 1000x600 with 1 Axes>"
      ]
     },
     "metadata": {},
     "output_type": "display_data"
    }
   ],
   "source": [
    "solve_volterra_eq_C()"
   ]
  },
  {
   "cell_type": "markdown",
   "metadata": {},
   "source": [
    "该例效果并无之前两例好，但整体趋势较为相符"
   ]
  },
  {
   "cell_type": "markdown",
   "metadata": {},
   "source": [
    "### 示例 D：三角函数型 Volterra 方程解析\n",
    "\n",
    "本例研究的 Volterra 积分方程为：\n",
    "\n",
    "$$\n",
    "u(t) = \\sin(t) + \\int_0^t \\cos(t - s) \\, u(s) \\, ds\n",
    "$$\n",
    "\n",
    "该方程属于第一类 Volterra 积分方程，核函数 \\$K(t, s)\\$ 与被积函数 \\$u(s)\\$ 存在线性卷积关系。\n",
    "\n",
    "\n",
    "* **核函数：** \\$K(t, s) = \\cos(t - s)\\$，这是一个具有卷积性质的核函数，物理上可理解为某种记忆效应或延迟响应。\n",
    "* **右侧函数：** \\$f(t) = \\sin(t)\\$，这是外部强迫项，给出了系统的初始输入。\n",
    "* **精确解：** \\$u(t) = \\sin(t) + \\frac{t \\sin(t)}{2}\\$，解析解可验证该问题的数值解的正确性。\n",
    "\n",
    "参数设计：\n",
    "\n",
    "* **积分区间：** 选取 \\$t \\in \\[0, 4]\\$，该区间可覆盖完整的一个三角函数周期，便于观察解在完整周期内的行为。\n",
    "* **积分点数：** 选取 25 个内部积分点，平衡了计算精度与训练速度。点数过少会导致高斯积分不准确，点数过多会增加计算负担。\n",
    "* **高斯积分阶数：** 选取 50 阶 Gauss-Legendre 积分，以确保卷积型核函数积分的数值精度。因为核函数为 \\$\\cos(t - s)\\$，在积分区间内可能震荡较快，因此需要更高的积分精度。\n",
    "\n",
    "\n",
    "\n"
   ]
  },
  {
   "cell_type": "code",
   "execution_count": 36,
   "metadata": {
    "execution": {
     "iopub.execute_input": "2025-06-09T08:37:04.023988Z",
     "iopub.status.busy": "2025-06-09T08:37:04.023543Z",
     "iopub.status.idle": "2025-06-09T08:37:04.029378Z",
     "shell.execute_reply": "2025-06-09T08:37:04.028827Z",
     "shell.execute_reply.started": "2025-06-09T08:37:04.023961Z"
    },
    "scrolled": true
   },
   "outputs": [],
   "source": [
    "# ------------------------\r\n",
    "# 示例 D：三角函数方程\r\n",
    "# 方程: u(t) = sin(t) + ∫₀ᵗ cos(t-s) u(s) ds\r\n",
    "# 精确解: u(t) = sin(t) + t*sin(t)/2\r\n",
    "# ------------------------\r\n",
    "def solve_volterra_eq_D():\r\n",
    "    \"\"\"三角函数方程\"\"\"\r\n",
    "    def kernel_func(t, s):\r\n",
    "        return np.cos(t - s)\r\n",
    "    \r\n",
    "    def f_func(t):\r\n",
    "        if isinstance(t, paddle.Tensor):\r\n",
    "            return paddle.sin(t)\r\n",
    "        else:\r\n",
    "            return np.sin(t)\r\n",
    "    \r\n",
    "    def exact_sol(in_):\r\n",
    "        x = in_[\"x\"]\r\n",
    "        if isinstance(x, paddle.Tensor):\r\n",
    "            return paddle.sin(x) + x * paddle.sin(x) / 2\r\n",
    "        else:\r\n",
    "            return np.sin(x) + x * np.sin(x) / 2\r\n",
    "    \r\n",
    "    build_and_solve_volterra(kernel_func, f_func, exact_sol, \r\n",
    "                           eq_name=\"Volterra_Example_D\",\r\n",
    "                           bounds=(0, 4),\r\n",
    "                           npoint_interior=25,\r\n",
    "                           quad_deg=50)\r\n",
    "\r\n"
   ]
  },
  {
   "cell_type": "code",
   "execution_count": 46,
   "metadata": {
    "execution": {
     "iopub.execute_input": "2025-06-09T08:45:05.486263Z",
     "iopub.status.busy": "2025-06-09T08:45:05.485883Z",
     "iopub.status.idle": "2025-06-09T08:45:11.292816Z",
     "shell.execute_reply": "2025-06-09T08:45:11.291872Z",
     "shell.execute_reply.started": "2025-06-09T08:45:05.486237Z"
    },
    "scrolled": true,
    "tags": []
   },
   "outputs": [
    {
     "name": "stdout",
     "output_type": "stream",
     "text": [
      "[2025/06/09 16:45:05] ppsci INFO: Using paddlepaddle develop(f41f081) on device Place(gpu:0)\u001b[0m\r\n",
      "\u001b[1;36m[2025/06/09 16:45:05] ppsci MESSAGE: Set to_static=False for computational optimization.\u001b[0m\r\n",
      "[2025/06/09 16:45:10] ppsci INFO: [Train][Epoch 1/1][Iter 1/1] lr: 1.00000, loss: 0.00000, EQ: 0.00000, IC: 0.00000, batch_cost: 5.17834s, reader_cost: 0.00061s, ips: 246.41, eta: 0:00:00\u001b[0m\r\n",
      "[2025/06/09 16:45:10] ppsci INFO: [Eval][Epoch 1/1][Iter 1/1] L2Rel_Validator/loss: inf, batch_cost: 0.00110s, reader_cost: 0.00001s, ips: 182254.56, eta: 0:00:00\u001b[0m\r\n",
      "[2025/06/09 16:45:10] ppsci INFO: [Eval][Epoch 1][Avg] L2Rel_Validator/loss: inf, L2Rel_Validator/L2Rel.u: 1.03261\u001b[0m\r\n",
      "\u001b[1;36m[2025/06/09 16:45:10] ppsci MESSAGE: Finish saving checkpoint to: ./output_Volterra_Example_D/checkpoints/best_model\u001b[0m\r\n",
      "[2025/06/09 16:45:10] ppsci INFO: [Eval][Epoch 1][best metric: 1.0326108932495117]\u001b[0m\r\n",
      "\u001b[1;36m[2025/06/09 16:45:10] ppsci MESSAGE: Finish saving checkpoint to: ./output_Volterra_Example_D/checkpoints/latest(latest checkpoint will be saved every epoch as expected, but this log will be printed only once for tidy logging)\u001b[0m\r\n"
     ]
    },
    {
     "data": {
      "image/png": "[encoded data removed]",
      "text/plain": [
       "<Figure size 1000x600 with 1 Axes>"
      ]
     },
     "metadata": {},
     "output_type": "display_data"
    }
   ],
   "source": [
    "solve_volterra_eq_D()"
   ]
  },
  {
   "cell_type": "markdown",
   "metadata": {},
   "source": [
    "## 6. 参考文献\n",
    "\n",
    "- [DeepXDE - Volterra_IDE](https://github.com/lululxvi/deepxde/blob/master/examples/pinn_forward/Volterra_IDE.py)\n",
    "- [Gaussian quadrature](https://en.wikipedia.org/wiki/Gaussian_quadrature#Change_of_interval)\n",
    "- [Volterra integral equation](https://en.wikipedia.org/wiki/Volterra_integral_equation)\n"
   ]
  }
 ],
 "metadata": {
  "kernelspec": {
   "display_name": "Python 3",
   "language": "python",
   "name": "py35-paddle1.2.0"
  },
  "language_info": {
   "codemirror_mode": {
    "name": "ipython",
    "version": 3
   },
   "file_extension": ".py",
   "mimetype": "text/x-python",
   "name": "python",
   "nbconvert_exporter": "python",
   "pygments_lexer": "ipython3",
   "version": "3.10.10"
  }
 },
 "nbformat": 4,
 "nbformat_minor": 4
}
